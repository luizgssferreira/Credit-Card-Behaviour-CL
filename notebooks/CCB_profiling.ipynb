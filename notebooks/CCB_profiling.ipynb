{
 "cells": [
  {
   "cell_type": "code",
   "execution_count": 1,
   "metadata": {},
   "outputs": [],
   "source": [
    "import pandas as pd\n",
    "import numpy as np\n",
    "import seaborn as sns\n",
    "import matplotlib.pyplot as plt\n"
   ]
  },
  {
   "cell_type": "code",
   "execution_count": 2,
   "metadata": {},
   "outputs": [],
   "source": [
    "df = pd.read_csv(\"../data/profiling_data.csv\")"
   ]
  },
  {
   "cell_type": "code",
   "execution_count": 3,
   "metadata": {},
   "outputs": [
    {
     "data": {
      "text/html": [
       "<div>\n",
       "<style scoped>\n",
       "    .dataframe tbody tr th:only-of-type {\n",
       "        vertical-align: middle;\n",
       "    }\n",
       "\n",
       "    .dataframe tbody tr th {\n",
       "        vertical-align: top;\n",
       "    }\n",
       "\n",
       "    .dataframe thead th {\n",
       "        text-align: right;\n",
       "    }\n",
       "</style>\n",
       "<table border=\"1\" class=\"dataframe\">\n",
       "  <thead>\n",
       "    <tr style=\"text-align: right;\">\n",
       "      <th></th>\n",
       "      <th>K4 Cluster 1</th>\n",
       "      <th>K4 Cluster 2</th>\n",
       "      <th>K4 Cluster 3</th>\n",
       "      <th>K4 Cluster 4</th>\n",
       "      <th>K5 Cluster 1</th>\n",
       "      <th>K5 Cluster 2</th>\n",
       "      <th>K5 Cluster 3</th>\n",
       "      <th>K5 Cluster 4</th>\n",
       "      <th>K5 Cluster 5</th>\n",
       "      <th>Overall</th>\n",
       "    </tr>\n",
       "  </thead>\n",
       "  <tbody>\n",
       "    <tr>\n",
       "      <th>0</th>\n",
       "      <td>4080.000000</td>\n",
       "      <td>1134.000000</td>\n",
       "      <td>254.000000</td>\n",
       "      <td>3481.000000</td>\n",
       "      <td>1073.000000</td>\n",
       "      <td>3248.000000</td>\n",
       "      <td>780.000000</td>\n",
       "      <td>30.000000</td>\n",
       "      <td>3818.000000</td>\n",
       "      <td>8949.000000</td>\n",
       "    </tr>\n",
       "    <tr>\n",
       "      <th>1</th>\n",
       "      <td>0.455917</td>\n",
       "      <td>0.126718</td>\n",
       "      <td>0.028383</td>\n",
       "      <td>0.388982</td>\n",
       "      <td>0.119902</td>\n",
       "      <td>0.362946</td>\n",
       "      <td>0.087161</td>\n",
       "      <td>0.003352</td>\n",
       "      <td>0.426640</td>\n",
       "      <td>1.000000</td>\n",
       "    </tr>\n",
       "    <tr>\n",
       "      <th>2</th>\n",
       "      <td>0.180637</td>\n",
       "      <td>0.103175</td>\n",
       "      <td>0.035433</td>\n",
       "      <td>0.401321</td>\n",
       "      <td>0.105312</td>\n",
       "      <td>0.497537</td>\n",
       "      <td>0.023077</td>\n",
       "      <td>0.066667</td>\n",
       "      <td>0.133840</td>\n",
       "      <td>0.252542</td>\n",
       "    </tr>\n",
       "    <tr>\n",
       "      <th>3</th>\n",
       "      <td>0.375490</td>\n",
       "      <td>0.448854</td>\n",
       "      <td>0.000000</td>\n",
       "      <td>0.000000</td>\n",
       "      <td>0.449208</td>\n",
       "      <td>0.000000</td>\n",
       "      <td>0.000000</td>\n",
       "      <td>0.000000</td>\n",
       "      <td>0.408329</td>\n",
       "      <td>0.228070</td>\n",
       "    </tr>\n",
       "    <tr>\n",
       "      <th>4</th>\n",
       "      <td>0.327451</td>\n",
       "      <td>0.211640</td>\n",
       "      <td>0.098425</td>\n",
       "      <td>0.078426</td>\n",
       "      <td>0.208760</td>\n",
       "      <td>0.069273</td>\n",
       "      <td>0.094872</td>\n",
       "      <td>0.100000</td>\n",
       "      <td>0.353064</td>\n",
       "      <td>0.209409</td>\n",
       "    </tr>\n",
       "  </tbody>\n",
       "</table>\n",
       "</div>"
      ],
      "text/plain": [
       "   K4 Cluster 1  K4 Cluster 2  K4 Cluster 3  K4 Cluster 4  K5 Cluster 1  \\\n",
       "0   4080.000000   1134.000000    254.000000   3481.000000   1073.000000   \n",
       "1      0.455917      0.126718      0.028383      0.388982      0.119902   \n",
       "2      0.180637      0.103175      0.035433      0.401321      0.105312   \n",
       "3      0.375490      0.448854      0.000000      0.000000      0.449208   \n",
       "4      0.327451      0.211640      0.098425      0.078426      0.208760   \n",
       "\n",
       "   K5 Cluster 2  K5 Cluster 3  K5 Cluster 4  K5 Cluster 5      Overall  \n",
       "0   3248.000000    780.000000     30.000000   3818.000000  8949.000000  \n",
       "1      0.362946      0.087161      0.003352      0.426640     1.000000  \n",
       "2      0.497537      0.023077      0.066667      0.133840     0.252542  \n",
       "3      0.000000      0.000000      0.000000      0.408329     0.228070  \n",
       "4      0.069273      0.094872      0.100000      0.353064     0.209409  "
      ]
     },
     "execution_count": 3,
     "metadata": {},
     "output_type": "execute_result"
    }
   ],
   "source": [
    "df.head()"
   ]
  },
  {
   "cell_type": "code",
   "execution_count": null,
   "metadata": {},
   "outputs": [],
   "source": []
  }
 ],
 "metadata": {
  "kernelspec": {
   "display_name": "Python 3",
   "language": "python",
   "name": "python3"
  },
  "language_info": {
   "codemirror_mode": {
    "name": "ipython",
    "version": 3
   },
   "file_extension": ".py",
   "mimetype": "text/x-python",
   "name": "python",
   "nbconvert_exporter": "python",
   "pygments_lexer": "ipython3",
   "version": "3.10.7"
  }
 },
 "nbformat": 4,
 "nbformat_minor": 2
}
